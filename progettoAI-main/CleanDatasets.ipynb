{
    "cells": [
        {
            "cell_type": "markdown",
            "metadata": {},
            "source": [
                "# Pulizia Dati Dataset"
            ]
        },
        {
            "cell_type": "code",
            "execution_count": 54,
            "metadata": {},
            "outputs": [],
            "source": [
                "import pandas as pd\n",
                "import numpy as np\n",
                "import matplotlib.pyplot as plt\n",
                "import re\n",
                "import ast\n",
                "import matplotlib.pyplot as plt\n",
                "\n",
                "dtFlorence = pd.DataFrame(pd.read_csv(\"florence.csv\"))"
            ]
        },
        {
            "cell_type": "code",
            "execution_count": 55,
            "metadata": {},
            "outputs": [],
            "source": [
                "def datasetsFeatureFiltration(dataset):\n",
                "    #######caratteristiche strutturali############\n",
                "    #######caratteristiche non strutturali############\n",
                "    dataset = dataset[['amenities','minimum_nights', 'maximum_nights', 'minimum_minimum_nights','maximum_minimum_nights',\n",
                "                    'minimum_maximum_nights','maximum_maximum_nights', 'minimum_nights_avg_ntm','maximum_nights_avg_ntm',\n",
                "                    'number_of_reviews','number_of_reviews_ltm', 'number_of_reviews_l30d', 'review_scores_rating',\n",
                "                    'review_scores_accuracy','review_scores_cleanliness', 'review_scores_checkin','review_scores_communication',\n",
                "                    'review_scores_location','review_scores_value', 'license', 'neighbourhood','neighbourhood_cleansed', 'neighbourhood_group_cleansed',\n",
                "                    'latitude', 'longitude', 'property_type', 'room_type', 'accommodates', 'bathrooms',\n",
                "                    'bathrooms_text', 'bedrooms', 'beds', 'price']]\n",
                "    return dataset\n",
                "\n",
                "def cleanBedsAndBedrooms(dataset):\n",
                "    #Nella colonna bedrooms rimpiazzo NAN con 1.0, ipotizzando che se il numero di camere da letto non è specificato allora sia di default 1\n",
                "    dataset['bedrooms'] = dataset['bedrooms'].fillna(1.0)\n",
                "\n",
                "    #Nella colonna beds rimpiazzo NAN con 1.0, ipotizzando che se il numero di letti non è specificato allora sia di default 1\n",
                "    dataset['beds'] = dataset['beds'].fillna(1.0)\n",
                "    return dataset\n",
                "\n",
                "def showDensityPlot(dataset, nome_colonna):\n",
                "    df = dataset[nome_colonna]\n",
                "\n",
                "    plt.figure(figsize=(10, 5))\n",
                "\n",
                "    x = range(min(df),max(df), int((max(df)-min(df))/10))\n",
                "    plt.title('Density Plot')\n",
                "\n",
                "    plt.xlabel('Valori')\n",
                "\n",
                "    plt.ylabel('Densità')\n",
                "\n",
                "    df.plot(kind='density')\n",
                "\n",
                "    plt.xticks(x)\n",
                "    plt.show()\n",
                "\n",
                "def showHistogram(dataset, column_name):\n",
                "    plt.figure(figsize=(10, 5))\n",
                "    plt.hist(dataset[column_name], bins=20, color='skyblue', edgecolor='black')\n",
                "    plt.title('Histogram')\n",
                "    plt.xlabel('Values')\n",
                "    plt.ylabel('Frequency')\n",
                "    plt.grid(True)\n",
                "    plt.show()\n",
                "\n",
                "\n",
                "def to_numericColumn(dataset, nome_colonna):\n",
                "    colonna = dataset[nome_colonna]\n",
                "    colonna_pulita = colonna.apply(lambda x: re.sub(r'[^0-9.]', '', x).replace(',', '.'))\n",
                "    colonna_numerica = pd.to_numeric(colonna_pulita, errors='coerce')\n",
                "    dataset[nome_colonna] = colonna_numerica\n",
                "    return dataset\n",
                "    \n",
                "def replaceNaNWithMedian(dataset, nome_colonna):\n",
                "    medianVal = dataset[nome_colonna].median()\n",
                "    dataset[nome_colonna].fillna(value=medianVal, inplace=True)\n",
                "    return dataset\n",
                "\n",
                "def replaceNaNWithMode(dataset, nome_colonna):\n",
                "    modeVal = dataset[nome_colonna].mode()[0]\n",
                "    dataset[nome_colonna].fillna(value=modeVal, inplace=True)\n",
                "    print(dataset[nome_colonna].isna().sum())\n",
                "    return dataset\n"
            ]
        },
        {
            "cell_type": "code",
            "execution_count": 56,
            "metadata": {},
            "outputs": [],
            "source": [
                "dtFlorence = datasetsFeatureFiltration(dtFlorence)\n",
                "dtFlorence = to_numericColumn(dtFlorence, 'price')\n",
                "dtFlorence = cleanBedsAndBedrooms(dtFlorence)"
            ]
        },
        {
            "cell_type": "code",
            "execution_count": 57,
            "metadata": {},
            "outputs": [
                {
                    "data": {
                        "text/plain": [
                            "0"
                        ]
                    },
                    "execution_count": 57,
                    "metadata": {},
                    "output_type": "execute_result"
                }
            ],
            "source": [
                "dtFlorence.loc[dtFlorence['number_of_reviews'] == 0].count()\n",
                "dtFlorence['review_scores_rating'].loc[dtFlorence['review_scores_rating'].isna()].count()\n"
            ]
        },
        {
            "cell_type": "code",
            "execution_count": 58,
            "metadata": {},
            "outputs": [],
            "source": [
                "arr = ['review_scores_rating', 'review_scores_accuracy',\n",
                "       'review_scores_cleanliness', 'review_scores_checkin',\n",
                "       'review_scores_communication', 'review_scores_location',\n",
                "       'review_scores_value']\n",
                "\n",
                "for i in arr:\n",
                "       dtFlorence.loc[dtFlorence['number_of_reviews'] == 0, i] = 0\n",
                "\n",
                "for i in arr:\n",
                "       dtFlorence = replaceNaNWithMedian(dtFlorence, i)\n",
                "\n"
            ]
        },
        {
            "cell_type": "code",
            "execution_count": 59,
            "metadata": {},
            "outputs": [
                {
                    "data": {
                        "image/png": "[encoded data removed]",
                        "text/plain": [
                            "<Figure size 1000x500 with 1 Axes>"
                        ]
                    },
                    "metadata": {},
                    "output_type": "display_data"
                }
            ],
            "source": [
                "showHistogram(dtFlorence, \"number_of_reviews\")"
            ]
        },
        {
            "cell_type": "code",
            "execution_count": 60,
            "metadata": {},
            "outputs": [
                {
                    "name": "stderr",
                    "output_type": "stream",
                    "text": [
                        "C:\\Users\\AndreaB\\AppData\\Local\\Temp\\ipykernel_21100\\2033206614.py:1: SettingWithCopyWarning: \n",
                        "A value is trying to be set on a copy of a slice from a DataFrame\n",
                        "\n",
                        "See the caveats in the documentation: https://pandas.pydata.org/pandas-docs/stable/user_guide/indexing.html#returning-a-view-versus-a-copy\n",
                        "  dtFlorence['license'].loc[~dtFlorence['license'].isnull()] = True\n"
                    ]
                }
            ],
            "source": [
                "dtFlorence['license'].loc[~dtFlorence['license'].isnull()] = True\n",
                "dtFlorence['license'] = dtFlorence['license'].fillna(False)"
            ]
        },
        {
            "cell_type": "code",
            "execution_count": 61,
            "metadata": {},
            "outputs": [
                {
                    "name": "stdout",
                    "output_type": "stream",
                    "text": [
                        "0\n",
                        "0\n"
                    ]
                },
                {
                    "data": {
                        "text/plain": [
                            "amenities                       0\n",
                            "minimum_nights                  0\n",
                            "maximum_nights                  0\n",
                            "minimum_minimum_nights          0\n",
                            "maximum_minimum_nights          0\n",
                            "minimum_maximum_nights          0\n",
                            "maximum_maximum_nights          0\n",
                            "minimum_nights_avg_ntm          0\n",
                            "maximum_nights_avg_ntm          0\n",
                            "number_of_reviews               0\n",
                            "number_of_reviews_ltm           0\n",
                            "number_of_reviews_l30d          0\n",
                            "review_scores_rating            0\n",
                            "review_scores_accuracy          0\n",
                            "review_scores_cleanliness       0\n",
                            "review_scores_checkin           0\n",
                            "review_scores_communication     0\n",
                            "review_scores_location          0\n",
                            "review_scores_value             0\n",
                            "license                         0\n",
                            "neighbourhood                   0\n",
                            "neighbourhood_cleansed          0\n",
                            "neighbourhood_group_cleansed    0\n",
                            "latitude                        0\n",
                            "longitude                       0\n",
                            "property_type                   0\n",
                            "room_type                       0\n",
                            "accommodates                    0\n",
                            "bathrooms_text                  0\n",
                            "bedrooms                        0\n",
                            "beds                            0\n",
                            "price                           0\n",
                            "dtype: int64"
                        ]
                    },
                    "execution_count": 61,
                    "metadata": {},
                    "output_type": "execute_result"
                }
            ],
            "source": [
                "dtFlorence = replaceNaNWithMode(dtFlorence, 'neighbourhood')\n",
                "dtFlorence['neighbourhood_group_cleansed'] = dtFlorence['neighbourhood_group_cleansed'].fillna('Terraferma')\n",
                "\n",
                "#fai un drop della colonna bathrooms perchè tutti nan in tutti i datasets\n",
                "dtFlorence.drop(['bathrooms'], axis=1, inplace=True)\n",
                "dtFlorence = replaceNaNWithMode(dtFlorence, 'bathrooms_text')\n",
                "dtFlorence.isna().sum()"
            ]
        },
        {
            "cell_type": "markdown",
            "metadata": {},
            "source": [
                "# **Uniformo e pulisco la colonna bathrooms_text**\n",
                "\n"
            ]
        },
        {
            "cell_type": "code",
            "execution_count": 62,
            "metadata": {},
            "outputs": [
                {
                    "data": {
                        "text/plain": [
                            "array(['1 bath', '3 baths', '1 private bath', '2 baths', '1 shared bath',\n",
                            "       '4 baths', '2 shared baths', '2.5 baths', '1.5 baths', '5 baths',\n",
                            "       '6 baths', 'Shared half-bath', '3.5 baths', '1.5 shared baths',\n",
                            "       'Half-bath', '0 baths', '6.5 baths', '8 baths', '3 shared baths',\n",
                            "       '7 baths', '9 baths', '4.5 baths', '0 shared baths', '5.5 baths',\n",
                            "       '2.5 shared baths', '7.5 baths', '13 baths', '13.5 baths'],\n",
                            "      dtype=object)"
                        ]
                    },
                    "execution_count": 62,
                    "metadata": {},
                    "output_type": "execute_result"
                }
            ],
            "source": [
                "#dataset['neighbourhood'] = dataset['neighbourhood'].astype('string') RIVEDI!\n",
                "dtFlorence['bathrooms_text'].loc[dtFlorence['bathrooms_text'] == '0 baths'].count()\n",
                "dtFlorence.bathrooms_text.unique()"
            ]
        },
        {
            "cell_type": "code",
            "execution_count": 63,
            "metadata": {},
            "outputs": [
                {
                    "data": {
                        "text/plain": [
                            "array(['1 bath', '3 bath', '2 bath', '1 shared', '4 bath', '2 shared',\n",
                            "       '2.5 bath', '1.5 bath', '5 bath', '6 bath', '3.5 bath',\n",
                            "       '1.5 shared', '6.5 bath', '8 bath', '3 shared', '7 bath', '9 bath',\n",
                            "       '4.5 bath', '5.5 bath', '2.5 shared', '7.5 bath', '13 bath',\n",
                            "       '13.5 bath'], dtype=object)"
                        ]
                    },
                    "execution_count": 63,
                    "metadata": {},
                    "output_type": "execute_result"
                }
            ],
            "source": [
                "import re\n",
                "\n",
                "def uniformize_bath(value):\n",
                "    if not isinstance(value, str):\n",
                "        value = str(value)\n",
                "    # Cerca il numero nel testo\n",
                "    match = re.search(r'(\\d+\\.?\\d*)', value)\n",
                "    \n",
                "    # Se non viene trovato nessun numero o il numero è 0, restituisci \"1\" con il termine corretto\n",
                "    if not match or float(match.group(1)) == 0:\n",
                "        if re.search(r'shared|shared (half-)?bath?s?', value):\n",
                "            return '1 shared'\n",
                "        elif re.search(r'(private\\s)?(half-)?bath?s?', value):\n",
                "            return '1 bath'\n",
                "    else:\n",
                "        # Altrimenti, restituisci il numero trovato insieme al termine corretto\n",
                "        num = match.group(1)\n",
                "        if re.search(r'shared (half-)?bath?s?', value):\n",
                "            return f\"{num} shared\"\n",
                "\n",
                "        elif re.search(r'(private\\s)?(half-)?bath?s?', value):\n",
                "            return f\"{num} bath\"\n",
                "\n",
                "inputsFlorence = dtFlorence['bathrooms_text']\n",
                "valuesFlorence = []\n",
                "for input_value in inputsFlorence:\n",
                "    valuesFlorence.append(uniformize_bath(input_value))\n",
                "dtFlorence['bathrooms_text'] = valuesFlorence\n",
                "dtFlorence.bathrooms_text.unique()\n"
            ]
        },
        {
            "cell_type": "code",
            "execution_count": 64,
            "metadata": {},
            "outputs": [],
            "source": [
                "def privateSharedBaths(dataset):\n",
                "    #Divido i bagni in due colonne, una private dove ci saranno solo i bagni non in comune\n",
                "    #e una colonna shared dove ci saranno solo i bagni in comune\n",
                "\n",
                "    subset_shared = dataset[dataset[\"bathrooms_text\"].str.contains(\"shared\")]\n",
                "    dataset[\"shared_bath\"] = subset_shared[\"bathrooms_text\"]\n",
                "\n",
                "    subset_private = dataset[~ dataset[\"bathrooms_text\"].str.contains(\"shared\")]\n",
                "    dataset[\"private_bath\"] = subset_private[\"bathrooms_text\"]\n",
                "\n",
                "    #Adesso sostituisco i valori NA con 0\n",
                "    dataset['shared_bath'] = dataset['shared_bath'].fillna(\"0\")\n",
                "    dataset['private_bath'] = dataset['private_bath'].fillna(\"0\")\n",
                "\n",
                "    #Elimino tutti i caratteri che non siano numeri\n",
                "    dataset['shared_bath'] = dataset['shared_bath'].str.replace('shared', '')\n",
                "\n",
                "    dataset['private_bath'] = dataset['private_bath'].str.replace('bath', '')\n",
                "\n",
                "    #Converto in numero\n",
                "    dataset['shared_bath'] = pd.to_numeric(dataset['shared_bath'])\n",
                "    dataset['private_bath'] = pd.to_numeric(dataset['private_bath'])\n",
                "\n",
                "    #Elimino la colonna bathrooms_text\n",
                "    dataset.drop(['bathrooms_text'], inplace=True, axis=1)"
            ]
        },
        {
            "cell_type": "code",
            "execution_count": 65,
            "metadata": {},
            "outputs": [],
            "source": [
                "privateSharedBaths(dtFlorence)\n"
            ]
        },
        {
            "cell_type": "code",
            "execution_count": 66,
            "metadata": {},
            "outputs": [],
            "source": [
                "#shared_bath 1.5 --> 37 | 2.5--> 3 totale --> 40\n",
                "#private_bath totale valori con virgola --> 610\n",
                "#totale righe con virgola --> 650 \n",
                "# Specifica i valori che desideri cercare\n",
                "\n",
                "valori_specifici = [1.5, 2.5, 3.5, 6.5, 4.5, 5.5, 7.5, 13.5]\n",
                " \n",
                "# Stampa le righe che hanno i valori specificati in una determinata colonna (ad esempio 'colonna_da_cercare')\n",
                "#dtFlorence.loc[dtFlorence['shared_bath'].isin(valori_specifici)]\n",
                " \n",
                "#print(righe_specifiche)"
            ]
        },
        {
            "cell_type": "markdown",
            "metadata": {},
            "source": [
                "# **Uniformo e pulisco la colonna propetry_type**\n"
            ]
        },
        {
            "cell_type": "code",
            "execution_count": 67,
            "metadata": {},
            "outputs": [],
            "source": [
                "def property_type_to_label(dataset):\n",
                "    unique_elements=[]\n",
                "    for property in dataset['property_type'].unique():\n",
                "        unique_elements += [property]\n",
                "    \n",
                "\n",
                "    dtProprietyType=pd.Series(data=unique_elements) #Creo una Series in cui il valore di ogni tipo di proprietà è rappresentato dall'indice (Es: Entire rental unit avrà valore 0)\n",
                "\n",
                "    #Ora devo sostituire nel dataset i vari tipi di proprietà da stringa a numeri (0,1,2...57)\n",
                "    rangeList=list(range(0,dtProprietyType.count())) #lista con i numeri da 0...57\n",
                "    i=0\n",
                "\n",
                "    for property in dtProprietyType:\n",
                "        dataset['property_type'] = dataset['property_type'].replace(property,rangeList[i])\n",
                "        i+=1\n",
                "        \n",
                "    dataset['property_type'] = dataset['property_type'].astype(int)\n"
            ]
        },
        {
            "cell_type": "code",
            "execution_count": 68,
            "metadata": {},
            "outputs": [],
            "source": [
                "property_type_to_label(dtFlorence)\n"
            ]
        },
        {
            "cell_type": "markdown",
            "metadata": {},
            "source": [
                "# **Uniformo e pulisco la colonna room_type**\n",
                "Valori nella colonna solo 4 e uguali per ogni dataset:\n",
                "<ol>\n",
                "    <li>Entire home/apt </li>\n",
                "    <li>Hotel room </li>\n",
                "    <li>Private room </li>\n",
                "    <li> Shared room </li>\n",
                "</ol>"
            ]
        },
        {
            "cell_type": "code",
            "execution_count": 69,
            "metadata": {},
            "outputs": [],
            "source": [
                "def room_type_to_label(dataset):\n",
                "    unique_roomtype=[]\n",
                "\n",
                "    for room in dataset['room_type'].unique():\n",
                "        unique_roomtype += [room]\n",
                "    \n",
                "\n",
                "    dtRoomType=pd.Series(data=unique_roomtype) #Creo una Series in cui il valore di ogni tipo di proprietà è rappresentato dall'indice\n",
                "\n",
                "    #Ora devo sostituire nel dataset i vari tipi di room_Type da stringa a numeri (0,1,2...57)\n",
                "    rangeList=list(range(0,dtRoomType.count())) #lista con i numeri da 0...3\n",
                "    i=0\n",
                "\n",
                "    for room in dtRoomType:\n",
                "        dataset['room_type'] = dataset['room_type'].replace(room,rangeList[i])\n",
                "        i+=1\n",
                "\n",
                "    dataset['room_type'] = dataset['room_type'].astype(int)"
            ]
        },
        {
            "cell_type": "code",
            "execution_count": 70,
            "metadata": {},
            "outputs": [],
            "source": [
                "room_type_to_label(dtFlorence)\n"
            ]
        },
        {
            "cell_type": "code",
            "execution_count": 71,
            "metadata": {},
            "outputs": [],
            "source": [
                "showDensityPlot(dtFlorence, 'property_type')"
            ]
        },
        {
            "cell_type": "code",
            "execution_count": 73,
            "metadata": {},
            "outputs": [
                {
                    "data": {
                        "image/png": "[encoded data removed]",
                        "text/plain": [
                            "<Figure size 1000x500 with 1 Axes>"
                        ]
                    },
                    "metadata": {},
                    "output_type": "display_data"
                }
            ],
            "source": [
                "showHistogram(dtFlorence, 'shared_bath')"
            ]
        },
        {
            "cell_type": "markdown",
            "metadata": {},
            "source": [
                "## Pulizia e sostituzione colonna 'amenities'"
            ]
        },
        {
            "cell_type": "code",
            "execution_count": 74,
            "metadata": {},
            "outputs": [],
            "source": [
                "def pulisci_parola(word, replacements):\n",
                "  \"\"\"\n",
                "  Pulisce una parola applicando le sostituzioni specificate nel dizionario.\n",
                "\n",
                "  Args:\n",
                "    word: La parola da pulire.\n",
                "    replacements: Un dizionario che mappa le parole da cercare alle parole di sostituzione.\n",
                "\n",
                "  Returns:\n",
                "    La parola pulita.\n",
                "  \"\"\"\n",
                "  for pattern, replacement in replacements.items():\n",
                "    word = re.sub(pattern, replacement, word, flags=re.IGNORECASE)\n",
                "  return word"
            ]
        },
        {
            "cell_type": "code",
            "execution_count": 75,
            "metadata": {},
            "outputs": [],
            "source": [
                "\n",
                "#Tutte le regular Expression per sostituire le parole ripetute nella colonna 'amenities'\n",
                "replacements={\n",
                "    r'.*?\\b(wifi)\\b.*': r'\\1',\n",
                "    r'.*?\\b(ac)\\b.*': 'air conditioning',\n",
                "    r'.*?\\b(exercise)\\b.*': 'exercise equipment',\n",
                "    r'.*?\\b(carport)\\b.*': r'\\1',\n",
                "    r'.*?\\b(shampoo)\\b.*': r'\\1',\n",
                "    r'.*?\\b(central)\\b.*': 'air conditioning',\n",
                "    r'.*?\\b(changing)\\b.*': 'changing table',\n",
                "    r'.*?\\b(netflix)\\b.*': r'\\1',\n",
                "    r'.*?\\b(tv)\\b.*': r'\\1',\n",
                "    r'.*?\\b(refrigerator)\\b.*': r'\\1',\n",
                "    r'.*?\\b(soap)\\b.*': r'\\1',\n",
                "    r'.*?\\b(clothing storage)\\b.*': r'\\1',\n",
                "    r'.*?\\b(free parking)\\b.*': r'\\1',\n",
                "    r'.*?\\b(coffee maker)\\b.*': r'\\1',\n",
                "    r'.*?\\b(conditioner)\\b.*': r'\\1',\n",
                "    r'.*?\\b(hdtv)\\b.*': r'\\1',\n",
                "    r'.*?\\b(heating)\\b.*': r'\\1',\n",
                "    r'.*?\\b(exercise equipment)\\b.*': r'\\1',\n",
                "    r'.*?\\b(shared pool)\\b.*': r'\\1',\n",
                "    r'.*?\\b(shared outdoor pool)\\b.*': 'shared pool',\n",
                "    r'\\bbluetooth\\b.*\\bsound\\s+system\\b': 'bluetooth sound system',\n",
                "    r'.*?\\b(electric stove)\\b.*': r'\\1',\n",
                "    r'.*?\\b(nuova mobili)\\b.*': r'\\1',\n",
                "    r'.*?\\b(stove)\\b.*': r'\\1',\n",
                "    r'.*?\\b(grill)\\b.*': r'\\1',\n",
                "    r'\\bsteel\\b.*\\bstove\\b': 'steel stove',\n",
                "    r'\\bsound system\\b': 'bluetooth sound system',\n",
                "    r'.*?\\b(paid crib)\\b.*': r'\\1',\n",
                "    r'.*?\\b(children’s books and toys)\\b.*': r'\\1',\n",
                "    r'.*?\\b(free washer)\\b.*': r'\\1',\n",
                "    r'.*?\\b(paid washer)\\b.*': r'\\1',\n",
                "    r'.*?\\b(crib)\\b.*': r'\\1',\n",
                "    r'.*?\\b(hot water)\\b.*': r'\\1',\n",
                "    r'.*?\\b(shared indoor pool)\\b.*': r'\\1',\n",
                "    r'\\bpaid\\b.*\\bparking\\b': 'paid parking',\n",
                "    r'\\brex\\b.*\\boven\\b': 'rex oven',\n",
                "    r'.*?\\b(private hot tub)\\b.*': r'\\1',\n",
                "    r'.*?\\b(game console)\\b.*': r'\\1',\n",
                "    r'.*?\\b(indoor fireplace)\\b.*': r'\\1',\n",
                "    r'.*?\\b(outdoor pool)\\b.*': r'\\1',\n",
                "    r'.*?\\b(paid dryer)\\b.*': r'\\1',\n",
                "    r'.*?\\b(dryer)\\b.*': 'free dryer',\n",
                "    r'.*?\\b(oven)\\b.*': r'\\1',\n",
                "    r'.*?\\b(high chair)\\b.*': r'\\1',\n",
                "    r'.*?\\b(paid parking)\\b.*': r'\\1',\n",
                "    r'.*?\\b(free residential garage)\\b.*': r'\\1',\n",
                "    r'.*?\\b(free driveway parking)\\b.*': 'free parking',\n",
                "    r'.*?\\b(bluetooth sound system)\\b.*': r'\\1',\n",
                "    r'.*?\\b(high chair)\\b.*': r'\\1',\n",
                "    r'.*?\\b(baby monitor)\\b.*': r'\\1',\n",
                "    r'.*?\\b(baby bath)\\b.*': r'\\1',\n",
                "    r'.*?\\b(beach access)\\b.*': r'\\1',\n",
                "    r'.*?\\b(washer)\\b.*': r'\\1',\n",
                "    r'.*?\\b(private backyard)\\b.*': r'\\1',\n",
                "    r'.*?\\b(shared backyard)\\b.*': r'\\1',\n",
                "    r'.*?\\b(backyard)\\b.*': r'\\1',\n",
                "    r'.*?\\b(shared gym)\\b.*': r'\\1',\n",
                "    r'.*?\\b(private gym)\\b.*': r'\\1',\n",
                "    r'.*?\\b(gym)\\b.*': 'private gym',\n",
                "}\n",
                "\n",
                "def replace_amenities_values(dt):\n",
                "\n",
                "# Inizializza una lista vuota per contenere tutti gli elementi\n",
                "#all_elements = []\n",
                "    elements_cleaned=set()\n",
                "# Itera attraverso ciascuna riga del DataFrame\n",
                "    for i,row in enumerate(dt['amenities']):\n",
                "    # Converte la stringa in lista\n",
                "        amenities_list = ast.literal_eval(row)\n",
                "    # Estendi la lista di elementi\n",
                "   #  all_elements.extend(amenities_list)\n",
                "        for word in amenities_list:\n",
                "    #Per ogni servizio vado ad effettuare delle pulize delle parole\n",
                "    #rimuovo caratteri speciali,strani,*-...., rendo la parola minuscola, elimino eventuali spazi iniziali e finali\n",
                "        \n",
                "            wordClean = re.sub(r\"[\\n\\.\\-,\\\"*\\_\\d]\", \"\", word.lower()).strip()\n",
                "            wordClean=pulisci_parola(wordClean,replacements)\n",
                "            elements_cleaned.add(wordClean)\n",
                "    \n",
                "    \n",
                "        dt['amenities'][i]=list(elements_cleaned)\n",
                "        elements_cleaned.clear()\n",
                "\n",
                "    return dt\n"
            ]
        },
        {
            "cell_type": "code",
            "execution_count": 76,
            "metadata": {},
            "outputs": [
                {
                    "name": "stderr",
                    "output_type": "stream",
                    "text": [
                        "C:\\Users\\AndreaB\\AppData\\Local\\Temp\\ipykernel_21100\\2699106560.py:84: SettingWithCopyWarning: \n",
                        "A value is trying to be set on a copy of a slice from a DataFrame\n",
                        "\n",
                        "See the caveats in the documentation: https://pandas.pydata.org/pandas-docs/stable/user_guide/indexing.html#returning-a-view-versus-a-copy\n",
                        "  dt['amenities'][i]=list(elements_cleaned)\n"
                    ]
                }
            ],
            "source": [
                "dtFlorence=replace_amenities_values(dtFlorence)"
            ]
        },
        {
            "cell_type": "code",
            "execution_count": 77,
            "metadata": {},
            "outputs": [],
            "source": [
                "########################### EXPORT DEI DATASETS PULITI ##################################\n",
                "dtFlorence.to_csv(\"./datasetsClean/florence_cleaned.csv\")"
            ]
        }
    ],
    "metadata": {
        "kernelspec": {
            "display_name": "Python 3",
            "language": "python",
            "name": "python3"
        },
        "language_info": {
            "codemirror_mode": {
                "name": "ipython",
                "version": 3
            },
            "file_extension": ".py",
            "mimetype": "text/x-python",
            "name": "python",
            "nbconvert_exporter": "python",
            "pygments_lexer": "ipython3",
            "version": "3.10.9"
        },
        "orig_nbformat": 4
    },
    "nbformat": 4,
    "nbformat_minor": 2
}
